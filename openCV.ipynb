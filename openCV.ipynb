{
 "cells": [
  {
   "cell_type": "code",
   "execution_count": 2,
   "id": "edcbf1d8-198c-48b5-9c99-bf9388dae6ed",
   "metadata": {},
   "outputs": [],
   "source": [
    "import numpy as np\n",
    "import pandas as pd\n",
    "import xgboost as xgb \n",
    "import requests \n",
    "import gzip \n",
    "import cv2 \n",
    "import zlib \n",
    "import idx2numpy\n",
    "from sklearn.preprocessing import StandardScaler \n",
    "from sklearn.model_selection import train_test_split"
   ]
  },
  {
   "cell_type": "code",
   "execution_count": 3,
   "id": "186a9e79-4d94-43b1-9830-7ae71c715208",
   "metadata": {},
   "outputs": [
    {
     "name": "stdout",
     "output_type": "stream",
     "text": [
      "Requirement already satisfied: xgboost in /Users/jmyh/anaconda3/lib/python3.10/site-packages (2.0.0)\n",
      "Requirement already satisfied: numpy in /Users/jmyh/anaconda3/lib/python3.10/site-packages (from xgboost) (1.23.5)\n",
      "Requirement already satisfied: scipy in /Users/jmyh/anaconda3/lib/python3.10/site-packages (from xgboost) (1.10.0)\n"
     ]
    }
   ],
   "source": [
    "! pip install xgboost"
   ]
  },
  {
   "cell_type": "code",
   "execution_count": 4,
   "id": "28ce433f-7c2c-46bf-b14b-b08cec76c597",
   "metadata": {},
   "outputs": [
    {
     "name": "stdout",
     "output_type": "stream",
     "text": [
      "Requirement already satisfied: opencv-contrib-python in /Users/jmyh/anaconda3/lib/python3.10/site-packages (4.8.1.78)\n",
      "Requirement already satisfied: numpy>=1.21.2 in /Users/jmyh/anaconda3/lib/python3.10/site-packages (from opencv-contrib-python) (1.23.5)\n"
     ]
    }
   ],
   "source": [
    "! pip install opencv-contrib-python --upgrade "
   ]
  },
  {
   "cell_type": "code",
   "execution_count": 5,
   "id": "d640c749-1577-4c88-84f6-217fdee303f1",
   "metadata": {},
   "outputs": [
    {
     "name": "stdout",
     "output_type": "stream",
     "text": [
      "Requirement already satisfied: idx2numpy in /Users/jmyh/anaconda3/lib/python3.10/site-packages (1.2.3)\n",
      "Requirement already satisfied: six in /Users/jmyh/anaconda3/lib/python3.10/site-packages (from idx2numpy) (1.16.0)\n",
      "Requirement already satisfied: numpy in /Users/jmyh/anaconda3/lib/python3.10/site-packages (from idx2numpy) (1.23.5)\n"
     ]
    }
   ],
   "source": [
    "! pip install idx2numpy"
   ]
  },
  {
   "cell_type": "code",
   "execution_count": 6,
   "id": "f4d1ffe2-b67f-4de5-9ae1-60d354f10998",
   "metadata": {},
   "outputs": [],
   "source": [
    "def load_ubyte(url, target_file):\n",
    "    r = requests.get(url)\n",
    "    data = zlib.decompress(r.content, zlib.MAX_WBITS|32)\n",
    "    with open(target_file, 'wb') as f:\n",
    "        f. write(data)\n",
    "        \n",
    "# Загрузим MNIST (рукописные изображения цифр)\n",
    "# MNIST очень популярен для проверки качества в задачах распознания объектов\n",
    "\n",
    "load_ubyte(\"http://yann.lecun.com/exdb/mnist/train-images-idx3-ubyte.gz\", \n",
    "           \"train_data.ubyte\")\n",
    "\n",
    "load_ubyte('http://yann.lecun.com/exdb/mnist/train-labels-idx1-ubyte.gz',\n",
    "           'train_labels.ubyte')\n",
    "load_ubyte('http://yann.lecun.com/exdb/mnist/t10k-images-idx3-ubyte.gz',\n",
    "           'test_data.ubyte')\n",
    "load_ubyte('http://yann.lecun.com/exdb/mnist/t10k-labels-idx1-ubyte.gz',\n",
    "           'test_labels.ubyte')"
   ]
  },
  {
   "cell_type": "code",
   "execution_count": 7,
   "id": "5ba9b44d-a0a7-495d-bcb8-54ada4d8c085",
   "metadata": {},
   "outputs": [
    {
     "name": "stdout",
     "output_type": "stream",
     "text": [
      "Одна картинка - это набор пикселей:\n",
      "[  0   0   0   0   0   0   0   0   0   0   0   0   0   0   0   0   0   0  67 232  39   0]\n",
      "[  0   0  62  81   0   0   0   0   0   0   0   0   0   0   0   0   0   0 120 180  39   0]\n",
      "[  0   0 126 163   0   0   0   0   0   0   0   0   0   0   0   0   0   2 153 210  40   0]\n",
      "[  0   0 220 163   0   0   0   0   0   0   0   0   0   0   0   0   0  27 254 162   0   0]\n",
      "[  0   0 222 163   0   0   0   0   0   0   0   0   0   0   0   0   0 183 254 125   0   0]\n",
      "[  0  46 245 163   0   0   0   0   0   0   0   0   0   0   0   0   0 198 254  56   0   0]\n",
      "[  0 120 254 163   0   0   0   0   0   0   0   0   0   0   0   0  23 231 254  29   0   0]\n",
      "[  0 159 254 120   0   0   0   0   0   0   0   0   0   0   0   0 163 254 216  16   0   0]\n",
      "[  0 159 254  67   0   0   0   0   0   0   0   0   0  14  86 178 248 254  91   0   0   0]\n",
      "[  0 159 254  85   0   0   0  47  49 116 144 150 241 243 234 179 241 252  40   0   0   0]\n",
      "[  0 150 253 237 207 207 207 253 254 250 240 198 143  91  28   5 233 250   0   0   0   0]\n",
      "[  0   0 119 177 177 177 177 177  98  56   0   0   0   0   0 102 254 220   0   0   0   0]\n",
      "[  0   0   0   0   0   0   0   0   0   0   0   0   0   0   0 169 254 137   0   0   0   0]\n",
      "[  0   0   0   0   0   0   0   0   0   0   0   0   0   0   0 169 254  57   0   0   0   0]\n",
      "[  0   0   0   0   0   0   0   0   0   0   0   0   0   0   0 169 254  57   0   0   0   0]\n",
      "[  0   0   0   0   0   0   0   0   0   0   0   0   0   0   0 169 255  94   0   0   0   0]\n",
      "[  0   0   0   0   0   0   0   0   0   0   0   0   0   0   0 169 254  96   0   0   0   0]\n",
      "[  0   0   0   0   0   0   0   0   0   0   0   0   0   0   0 169 254 153   0   0   0   0]\n",
      "[  0   0   0   0   0   0   0   0   0   0   0   0   0   0   0 169 255 153   0   0   0   0]\n",
      "[  0   0   0   0   0   0   0   0   0   0   0   0   0   0   0  96 254 153   0   0   0   0]\n"
     ]
    }
   ],
   "source": [
    "# Распакуем данные и считаем картинки в массив\n",
    "train_images_file = 'train_data.ubyte'\n",
    "train_labels_file = 'train_labels.ubyte'\n",
    "test_images_file = 'test_data.ubyte'\n",
    "test_labels_file = 'test_labels.ubyte'\n",
    "\n",
    "train_images = idx2numpy.convert_from_file(train_images_file)\n",
    "train_labels = idx2numpy.convert_from_file(train_labels_file)\n",
    "test_images = idx2numpy.convert_from_file (test_images_file)\n",
    "test_labels = idx2numpy.convert_from_file (test_labels_file)\n",
    "\n",
    "np.set_printoptions(linewidth=300)\n",
    "print(f'Одна картинка - это набор пикселей:')\n",
    "print(*train_images[2][5:-3, 2:-4], sep='\\n')"
   ]
  },
  {
   "cell_type": "code",
   "execution_count": 8,
   "id": "570178aa-2ef4-4d5e-8811-a779c27d71bb",
   "metadata": {},
   "outputs": [],
   "source": [
    "# Моделям удобнее работать с векторами - распакуем массив пикселей в вектор\n",
    "width, height = 28, 28\n",
    "pixels = width * height\n",
    "train_data = pd.DataFrame(\n",
    "    train_images.reshape(-1, pixels),\n",
    "    columns=[f'pixel_{i}' for i in range(pixels)]\n",
    ")\n",
    "test_data = pd.DataFrame(\n",
    "    test_images.reshape (-1, pixels),\n",
    "    columns=[f'pixel_{i}' for i in range(pixels)]\n",
    ")\n",
    "# Модель будет учиться по меткам, которые ей отдадут\n",
    "train_data['label'] = train_labels"
   ]
  },
  {
   "cell_type": "code",
   "execution_count": 11,
   "id": "5090b0be-98ca-43ea-82dc-671c93d8a2c6",
   "metadata": {},
   "outputs": [
    {
     "name": "stderr",
     "output_type": "stream",
     "text": [
      "/Users/jmyh/anaconda3/lib/python3.10/site-packages/xgboost/core.py:160: UserWarning: [14:44:13] WARNING: /Users/runner/work/xgboost/xgboost/src/learner.cc:742: \n",
      "Parameters: { \"custom_metric\" } are not used.\n",
      "\n",
      "  warnings.warn(smsg, UserWarning)\n"
     ]
    },
    {
     "name": "stdout",
     "output_type": "stream",
     "text": [
      "[0]\ttrain-mlogloss:1.95302\tvalidation-mlogloss:1.95458\n",
      "[1]\ttrain-mlogloss:1.68514\tvalidation-mlogloss:1.68652\n",
      "[2]\ttrain-mlogloss:1.48791\tvalidation-mlogloss:1.48967\n",
      "[3]\ttrain-mlogloss:1.33346\tvalidation-mlogloss:1.33582\n",
      "[4]\ttrain-mlogloss:1.20404\tvalidation-mlogloss:1.20621\n",
      "[5]\ttrain-mlogloss:1.09731\tvalidation-mlogloss:1.10023\n",
      "[6]\ttrain-mlogloss:0.99835\tvalidation-mlogloss:1.00144\n",
      "[7]\ttrain-mlogloss:0.90587\tvalidation-mlogloss:0.90868\n",
      "[8]\ttrain-mlogloss:0.82745\tvalidation-mlogloss:0.83029\n",
      "[9]\ttrain-mlogloss:0.76061\tvalidation-mlogloss:0.76385\n",
      "[10]\ttrain-mlogloss:0.69857\tvalidation-mlogloss:0.70204\n",
      "[11]\ttrain-mlogloss:0.64172\tvalidation-mlogloss:0.64533\n",
      "[12]\ttrain-mlogloss:0.59109\tvalidation-mlogloss:0.59476\n",
      "[13]\ttrain-mlogloss:0.54306\tvalidation-mlogloss:0.54660\n",
      "[14]\ttrain-mlogloss:0.49846\tvalidation-mlogloss:0.50179\n",
      "[15]\ttrain-mlogloss:0.45924\tvalidation-mlogloss:0.46239\n",
      "[16]\ttrain-mlogloss:0.42418\tvalidation-mlogloss:0.42730\n",
      "[17]\ttrain-mlogloss:0.39505\tvalidation-mlogloss:0.39834\n",
      "[18]\ttrain-mlogloss:0.36353\tvalidation-mlogloss:0.36661\n",
      "[19]\ttrain-mlogloss:0.33634\tvalidation-mlogloss:0.33936\n",
      "[20]\ttrain-mlogloss:0.31018\tvalidation-mlogloss:0.31300\n",
      "[21]\ttrain-mlogloss:0.28667\tvalidation-mlogloss:0.28932\n",
      "[22]\ttrain-mlogloss:0.26422\tvalidation-mlogloss:0.26670\n",
      "[23]\ttrain-mlogloss:0.24456\tvalidation-mlogloss:0.24696\n",
      "[24]\ttrain-mlogloss:0.22607\tvalidation-mlogloss:0.22836\n",
      "[25]\ttrain-mlogloss:0.21035\tvalidation-mlogloss:0.21260\n",
      "[26]\ttrain-mlogloss:0.19477\tvalidation-mlogloss:0.19690\n",
      "[27]\ttrain-mlogloss:0.18029\tvalidation-mlogloss:0.18228\n",
      "[28]\ttrain-mlogloss:0.16695\tvalidation-mlogloss:0.16879\n",
      "[29]\ttrain-mlogloss:0.15451\tvalidation-mlogloss:0.15626\n",
      "[30]\ttrain-mlogloss:0.14322\tvalidation-mlogloss:0.14488\n",
      "[31]\ttrain-mlogloss:0.13396\tvalidation-mlogloss:0.13564\n",
      "[32]\ttrain-mlogloss:0.12377\tvalidation-mlogloss:0.12534\n",
      "[33]\ttrain-mlogloss:0.11475\tvalidation-mlogloss:0.11624\n",
      "[34]\ttrain-mlogloss:0.10695\tvalidation-mlogloss:0.10842\n",
      "[35]\ttrain-mlogloss:0.09968\tvalidation-mlogloss:0.10109\n",
      "[36]\ttrain-mlogloss:0.09218\tvalidation-mlogloss:0.09349\n",
      "[37]\ttrain-mlogloss:0.08555\tvalidation-mlogloss:0.08680\n",
      "[38]\ttrain-mlogloss:0.07978\tvalidation-mlogloss:0.08098\n",
      "[39]\ttrain-mlogloss:0.07457\tvalidation-mlogloss:0.07572\n",
      "[40]\ttrain-mlogloss:0.06954\tvalidation-mlogloss:0.07060\n",
      "[41]\ttrain-mlogloss:0.06465\tvalidation-mlogloss:0.06564\n",
      "[42]\ttrain-mlogloss:0.06014\tvalidation-mlogloss:0.06107\n",
      "[43]\ttrain-mlogloss:0.05629\tvalidation-mlogloss:0.05717\n",
      "[44]\ttrain-mlogloss:0.05224\tvalidation-mlogloss:0.05307\n",
      "[45]\ttrain-mlogloss:0.04925\tvalidation-mlogloss:0.05005\n",
      "[46]\ttrain-mlogloss:0.04597\tvalidation-mlogloss:0.04673\n",
      "[47]\ttrain-mlogloss:0.04283\tvalidation-mlogloss:0.04355\n",
      "[48]\ttrain-mlogloss:0.03975\tvalidation-mlogloss:0.04042\n",
      "[49]\ttrain-mlogloss:0.03756\tvalidation-mlogloss:0.03822\n",
      "[50]\ttrain-mlogloss:0.03503\tvalidation-mlogloss:0.03564\n",
      "[51]\ttrain-mlogloss:0.03254\tvalidation-mlogloss:0.03312\n",
      "[52]\ttrain-mlogloss:0.03061\tvalidation-mlogloss:0.03116\n",
      "[53]\ttrain-mlogloss:0.02869\tvalidation-mlogloss:0.02922\n",
      "[54]\ttrain-mlogloss:0.02693\tvalidation-mlogloss:0.02743\n",
      "[55]\ttrain-mlogloss:0.02513\tvalidation-mlogloss:0.02560\n",
      "[56]\ttrain-mlogloss:0.02341\tvalidation-mlogloss:0.02385\n",
      "[57]\ttrain-mlogloss:0.02183\tvalidation-mlogloss:0.02223\n",
      "[58]\ttrain-mlogloss:0.02069\tvalidation-mlogloss:0.02108\n",
      "[59]\ttrain-mlogloss:0.01945\tvalidation-mlogloss:0.01983\n",
      "[60]\ttrain-mlogloss:0.01834\tvalidation-mlogloss:0.01871\n",
      "[61]\ttrain-mlogloss:0.01726\tvalidation-mlogloss:0.01761\n",
      "[62]\ttrain-mlogloss:0.01622\tvalidation-mlogloss:0.01655\n",
      "[63]\ttrain-mlogloss:0.01522\tvalidation-mlogloss:0.01553\n",
      "[64]\ttrain-mlogloss:0.01442\tvalidation-mlogloss:0.01472\n",
      "[65]\ttrain-mlogloss:0.01352\tvalidation-mlogloss:0.01380\n",
      "[66]\ttrain-mlogloss:0.01273\tvalidation-mlogloss:0.01300\n",
      "[67]\ttrain-mlogloss:0.01208\tvalidation-mlogloss:0.01234\n",
      "[68]\ttrain-mlogloss:0.01141\tvalidation-mlogloss:0.01165\n",
      "[69]\ttrain-mlogloss:0.01082\tvalidation-mlogloss:0.01105\n",
      "[70]\ttrain-mlogloss:0.01034\tvalidation-mlogloss:0.01056\n",
      "[71]\ttrain-mlogloss:0.00978\tvalidation-mlogloss:0.01000\n",
      "[72]\ttrain-mlogloss:0.00930\tvalidation-mlogloss:0.00950\n",
      "[73]\ttrain-mlogloss:0.00882\tvalidation-mlogloss:0.00902\n",
      "[74]\ttrain-mlogloss:0.00837\tvalidation-mlogloss:0.00855\n",
      "[75]\ttrain-mlogloss:0.00801\tvalidation-mlogloss:0.00819\n",
      "[76]\ttrain-mlogloss:0.00763\tvalidation-mlogloss:0.00780\n",
      "[77]\ttrain-mlogloss:0.00732\tvalidation-mlogloss:0.00749\n",
      "[78]\ttrain-mlogloss:0.00702\tvalidation-mlogloss:0.00717\n",
      "[79]\ttrain-mlogloss:0.00672\tvalidation-mlogloss:0.00687\n",
      "[80]\ttrain-mlogloss:0.00645\tvalidation-mlogloss:0.00659\n",
      "[81]\ttrain-mlogloss:0.00622\tvalidation-mlogloss:0.00636\n",
      "[82]\ttrain-mlogloss:0.00601\tvalidation-mlogloss:0.00615\n",
      "[83]\ttrain-mlogloss:0.00579\tvalidation-mlogloss:0.00592\n",
      "[84]\ttrain-mlogloss:0.00558\tvalidation-mlogloss:0.00571\n",
      "[85]\ttrain-mlogloss:0.00539\tvalidation-mlogloss:0.00552\n",
      "[86]\ttrain-mlogloss:0.00520\tvalidation-mlogloss:0.00533\n",
      "[87]\ttrain-mlogloss:0.00504\tvalidation-mlogloss:0.00516\n",
      "[88]\ttrain-mlogloss:0.00487\tvalidation-mlogloss:0.00499\n",
      "[89]\ttrain-mlogloss:0.00470\tvalidation-mlogloss:0.00481\n",
      "[90]\ttrain-mlogloss:0.00454\tvalidation-mlogloss:0.00466\n",
      "[91]\ttrain-mlogloss:0.00440\tvalidation-mlogloss:0.00451\n",
      "[92]\ttrain-mlogloss:0.00427\tvalidation-mlogloss:0.00438\n",
      "[93]\ttrain-mlogloss:0.00414\tvalidation-mlogloss:0.00424\n",
      "[94]\ttrain-mlogloss:0.00402\tvalidation-mlogloss:0.00411\n",
      "[95]\ttrain-mlogloss:0.00390\tvalidation-mlogloss:0.00400\n",
      "[96]\ttrain-mlogloss:0.00379\tvalidation-mlogloss:0.00389\n",
      "[97]\ttrain-mlogloss:0.00371\tvalidation-mlogloss:0.00380\n",
      "[98]\ttrain-mlogloss:0.00362\tvalidation-mlogloss:0.00370\n",
      "[99]\ttrain-mlogloss:0.00356\tvalidation-mlogloss:0.00364\n",
      "[100]\ttrain-mlogloss:0.00349\tvalidation-mlogloss:0.00357\n",
      "[101]\ttrain-mlogloss:0.00341\tvalidation-mlogloss:0.00349\n",
      "[102]\ttrain-mlogloss:0.00336\tvalidation-mlogloss:0.00344\n",
      "[103]\ttrain-mlogloss:0.00330\tvalidation-mlogloss:0.00338\n",
      "[104]\ttrain-mlogloss:0.00323\tvalidation-mlogloss:0.00331\n",
      "[105]\ttrain-mlogloss:0.00318\tvalidation-mlogloss:0.00326\n",
      "[106]\ttrain-mlogloss:0.00312\tvalidation-mlogloss:0.00320\n",
      "[107]\ttrain-mlogloss:0.00308\tvalidation-mlogloss:0.00315\n",
      "[108]\ttrain-mlogloss:0.00304\tvalidation-mlogloss:0.00311\n",
      "[109]\ttrain-mlogloss:0.00299\tvalidation-mlogloss:0.00306\n",
      "[110]\ttrain-mlogloss:0.00296\tvalidation-mlogloss:0.00303\n",
      "[111]\ttrain-mlogloss:0.00292\tvalidation-mlogloss:0.00299\n",
      "[112]\ttrain-mlogloss:0.00290\tvalidation-mlogloss:0.00297\n",
      "[113]\ttrain-mlogloss:0.00287\tvalidation-mlogloss:0.00294\n",
      "[114]\ttrain-mlogloss:0.00284\tvalidation-mlogloss:0.00291\n",
      "[115]\ttrain-mlogloss:0.00281\tvalidation-mlogloss:0.00288\n",
      "[116]\ttrain-mlogloss:0.00279\tvalidation-mlogloss:0.00285\n",
      "[117]\ttrain-mlogloss:0.00277\tvalidation-mlogloss:0.00284\n",
      "[118]\ttrain-mlogloss:0.00275\tvalidation-mlogloss:0.00282\n",
      "[119]\ttrain-mlogloss:0.00274\tvalidation-mlogloss:0.00280\n",
      "[120]\ttrain-mlogloss:0.00273\tvalidation-mlogloss:0.00279\n",
      "[121]\ttrain-mlogloss:0.00271\tvalidation-mlogloss:0.00277\n",
      "[122]\ttrain-mlogloss:0.00269\tvalidation-mlogloss:0.00275\n",
      "[123]\ttrain-mlogloss:0.00268\tvalidation-mlogloss:0.00274\n",
      "[124]\ttrain-mlogloss:0.00267\tvalidation-mlogloss:0.00273\n",
      "[125]\ttrain-mlogloss:0.00266\tvalidation-mlogloss:0.00272\n",
      "[126]\ttrain-mlogloss:0.00264\tvalidation-mlogloss:0.00270\n",
      "[127]\ttrain-mlogloss:0.00263\tvalidation-mlogloss:0.00269\n",
      "[128]\ttrain-mlogloss:0.00262\tvalidation-mlogloss:0.00268\n",
      "[129]\ttrain-mlogloss:0.00261\tvalidation-mlogloss:0.00267\n",
      "[130]\ttrain-mlogloss:0.00260\tvalidation-mlogloss:0.00266\n",
      "[131]\ttrain-mlogloss:0.00259\tvalidation-mlogloss:0.00265\n",
      "[132]\ttrain-mlogloss:0.00258\tvalidation-mlogloss:0.00264\n",
      "[133]\ttrain-mlogloss:0.00257\tvalidation-mlogloss:0.00263\n",
      "[134]\ttrain-mlogloss:0.00256\tvalidation-mlogloss:0.00262\n",
      "[135]\ttrain-mlogloss:0.00256\tvalidation-mlogloss:0.00261\n",
      "[136]\ttrain-mlogloss:0.00255\tvalidation-mlogloss:0.00261\n",
      "[137]\ttrain-mlogloss:0.00254\tvalidation-mlogloss:0.00260\n",
      "[138]\ttrain-mlogloss:0.00254\tvalidation-mlogloss:0.00259\n",
      "[139]\ttrain-mlogloss:0.00253\tvalidation-mlogloss:0.00258\n",
      "[140]\ttrain-mlogloss:0.00253\tvalidation-mlogloss:0.00258\n",
      "[141]\ttrain-mlogloss:0.00252\tvalidation-mlogloss:0.00257\n",
      "[142]\ttrain-mlogloss:0.00252\tvalidation-mlogloss:0.00257\n",
      "[143]\ttrain-mlogloss:0.00251\tvalidation-mlogloss:0.00256\n",
      "[144]\ttrain-mlogloss:0.00251\tvalidation-mlogloss:0.00256\n",
      "[145]\ttrain-mlogloss:0.00250\tvalidation-mlogloss:0.00256\n",
      "[146]\ttrain-mlogloss:0.00250\tvalidation-mlogloss:0.00255\n",
      "[147]\ttrain-mlogloss:0.00250\tvalidation-mlogloss:0.00255\n",
      "[148]\ttrain-mlogloss:0.00249\tvalidation-mlogloss:0.00254\n",
      "[149]\ttrain-mlogloss:0.00249\tvalidation-mlogloss:0.00254\n",
      "[150]\ttrain-mlogloss:0.00249\tvalidation-mlogloss:0.00254\n",
      "[151]\ttrain-mlogloss:0.00248\tvalidation-mlogloss:0.00253\n",
      "[152]\ttrain-mlogloss:0.00248\tvalidation-mlogloss:0.00253\n",
      "[153]\ttrain-mlogloss:0.00248\tvalidation-mlogloss:0.00253\n",
      "[154]\ttrain-mlogloss:0.00248\tvalidation-mlogloss:0.00253\n",
      "[155]\ttrain-mlogloss:0.00247\tvalidation-mlogloss:0.00252\n",
      "[156]\ttrain-mlogloss:0.00247\tvalidation-mlogloss:0.00252\n",
      "[157]\ttrain-mlogloss:0.00247\tvalidation-mlogloss:0.00252\n",
      "[158]\ttrain-mlogloss:0.00247\tvalidation-mlogloss:0.00252\n",
      "[159]\ttrain-mlogloss:0.00246\tvalidation-mlogloss:0.00251\n",
      "[160]\ttrain-mlogloss:0.00246\tvalidation-mlogloss:0.00251\n",
      "[161]\ttrain-mlogloss:0.00246\tvalidation-mlogloss:0.00251\n",
      "[162]\ttrain-mlogloss:0.00246\tvalidation-mlogloss:0.00251\n",
      "[163]\ttrain-mlogloss:0.00246\tvalidation-mlogloss:0.00250\n",
      "[164]\ttrain-mlogloss:0.00245\tvalidation-mlogloss:0.00250\n",
      "[165]\ttrain-mlogloss:0.00245\tvalidation-mlogloss:0.00250\n",
      "[166]\ttrain-mlogloss:0.00245\tvalidation-mlogloss:0.00250\n",
      "[167]\ttrain-mlogloss:0.00245\tvalidation-mlogloss:0.00250\n",
      "[168]\ttrain-mlogloss:0.00245\tvalidation-mlogloss:0.00250\n",
      "[169]\ttrain-mlogloss:0.00245\tvalidation-mlogloss:0.00250\n",
      "[170]\ttrain-mlogloss:0.00245\tvalidation-mlogloss:0.00250\n",
      "[171]\ttrain-mlogloss:0.00245\tvalidation-mlogloss:0.00250\n",
      "[172]\ttrain-mlogloss:0.00245\tvalidation-mlogloss:0.00249\n",
      "[173]\ttrain-mlogloss:0.00244\tvalidation-mlogloss:0.00249\n",
      "[174]\ttrain-mlogloss:0.00244\tvalidation-mlogloss:0.00249\n",
      "[175]\ttrain-mlogloss:0.00244\tvalidation-mlogloss:0.00249\n",
      "[176]\ttrain-mlogloss:0.00244\tvalidation-mlogloss:0.00249\n",
      "[177]\ttrain-mlogloss:0.00244\tvalidation-mlogloss:0.00249\n",
      "[178]\ttrain-mlogloss:0.00244\tvalidation-mlogloss:0.00249\n",
      "[179]\ttrain-mlogloss:0.00244\tvalidation-mlogloss:0.00248\n",
      "[180]\ttrain-mlogloss:0.00244\tvalidation-mlogloss:0.00248\n",
      "[181]\ttrain-mlogloss:0.00243\tvalidation-mlogloss:0.00248\n",
      "[182]\ttrain-mlogloss:0.00243\tvalidation-mlogloss:0.00248\n",
      "[183]\ttrain-mlogloss:0.00243\tvalidation-mlogloss:0.00248\n",
      "[184]\ttrain-mlogloss:0.00243\tvalidation-mlogloss:0.00248\n",
      "[185]\ttrain-mlogloss:0.00243\tvalidation-mlogloss:0.00248\n",
      "[186]\ttrain-mlogloss:0.00243\tvalidation-mlogloss:0.00248\n",
      "[187]\ttrain-mlogloss:0.00243\tvalidation-mlogloss:0.00248\n",
      "[188]\ttrain-mlogloss:0.00243\tvalidation-mlogloss:0.00248\n",
      "[189]\ttrain-mlogloss:0.00243\tvalidation-mlogloss:0.00248\n",
      "[190]\ttrain-mlogloss:0.00243\tvalidation-mlogloss:0.00247\n",
      "[191]\ttrain-mlogloss:0.00243\tvalidation-mlogloss:0.00247\n",
      "[192]\ttrain-mlogloss:0.00243\tvalidation-mlogloss:0.00247\n",
      "[193]\ttrain-mlogloss:0.00243\tvalidation-mlogloss:0.00247\n",
      "[194]\ttrain-mlogloss:0.00242\tvalidation-mlogloss:0.00247\n",
      "[195]\ttrain-mlogloss:0.00242\tvalidation-mlogloss:0.00247\n",
      "[196]\ttrain-mlogloss:0.00242\tvalidation-mlogloss:0.00247\n",
      "[197]\ttrain-mlogloss:0.00242\tvalidation-mlogloss:0.00247\n",
      "[198]\ttrain-mlogloss:0.00242\tvalidation-mlogloss:0.00247\n",
      "[199]\ttrain-mlogloss:0.00242\tvalidation-mlogloss:0.00247\n",
      "[200]\ttrain-mlogloss:0.00242\tvalidation-mlogloss:0.00247\n",
      "[201]\ttrain-mlogloss:0.00242\tvalidation-mlogloss:0.00246\n",
      "[202]\ttrain-mlogloss:0.00242\tvalidation-mlogloss:0.00246\n",
      "[203]\ttrain-mlogloss:0.00242\tvalidation-mlogloss:0.00246\n",
      "[204]\ttrain-mlogloss:0.00242\tvalidation-mlogloss:0.00246\n",
      "[205]\ttrain-mlogloss:0.00242\tvalidation-mlogloss:0.00246\n",
      "[206]\ttrain-mlogloss:0.00242\tvalidation-mlogloss:0.00246\n",
      "[207]\ttrain-mlogloss:0.00241\tvalidation-mlogloss:0.00246\n",
      "[208]\ttrain-mlogloss:0.00241\tvalidation-mlogloss:0.00246\n",
      "[209]\ttrain-mlogloss:0.00241\tvalidation-mlogloss:0.00246\n",
      "[210]\ttrain-mlogloss:0.00241\tvalidation-mlogloss:0.00246\n",
      "[211]\ttrain-mlogloss:0.00241\tvalidation-mlogloss:0.00246\n",
      "[212]\ttrain-mlogloss:0.00241\tvalidation-mlogloss:0.00246\n",
      "[213]\ttrain-mlogloss:0.00241\tvalidation-mlogloss:0.00246\n",
      "[214]\ttrain-mlogloss:0.00241\tvalidation-mlogloss:0.00246\n",
      "[215]\ttrain-mlogloss:0.00241\tvalidation-mlogloss:0.00246\n",
      "[216]\ttrain-mlogloss:0.00241\tvalidation-mlogloss:0.00246\n",
      "[217]\ttrain-mlogloss:0.00241\tvalidation-mlogloss:0.00246\n",
      "[218]\ttrain-mlogloss:0.00241\tvalidation-mlogloss:0.00245\n",
      "[219]\ttrain-mlogloss:0.00241\tvalidation-mlogloss:0.00245\n",
      "[220]\ttrain-mlogloss:0.00241\tvalidation-mlogloss:0.00245\n",
      "[221]\ttrain-mlogloss:0.00241\tvalidation-mlogloss:0.00245\n",
      "[222]\ttrain-mlogloss:0.00241\tvalidation-mlogloss:0.00245\n",
      "[223]\ttrain-mlogloss:0.00241\tvalidation-mlogloss:0.00245\n",
      "[224]\ttrain-mlogloss:0.00241\tvalidation-mlogloss:0.00245\n",
      "[225]\ttrain-mlogloss:0.00241\tvalidation-mlogloss:0.00245\n",
      "[226]\ttrain-mlogloss:0.00240\tvalidation-mlogloss:0.00245\n",
      "[227]\ttrain-mlogloss:0.00240\tvalidation-mlogloss:0.00245\n",
      "[228]\ttrain-mlogloss:0.00240\tvalidation-mlogloss:0.00245\n",
      "[229]\ttrain-mlogloss:0.00240\tvalidation-mlogloss:0.00245\n",
      "[230]\ttrain-mlogloss:0.00240\tvalidation-mlogloss:0.00245\n",
      "[231]\ttrain-mlogloss:0.00240\tvalidation-mlogloss:0.00245\n",
      "[232]\ttrain-mlogloss:0.00240\tvalidation-mlogloss:0.00245\n",
      "[233]\ttrain-mlogloss:0.00240\tvalidation-mlogloss:0.00245\n",
      "[234]\ttrain-mlogloss:0.00240\tvalidation-mlogloss:0.00245\n",
      "[235]\ttrain-mlogloss:0.00240\tvalidation-mlogloss:0.00245\n",
      "[236]\ttrain-mlogloss:0.00240\tvalidation-mlogloss:0.00245\n",
      "[237]\ttrain-mlogloss:0.00240\tvalidation-mlogloss:0.00245\n",
      "[238]\ttrain-mlogloss:0.00240\tvalidation-mlogloss:0.00245\n",
      "[239]\ttrain-mlogloss:0.00240\tvalidation-mlogloss:0.00245\n",
      "[240]\ttrain-mlogloss:0.00240\tvalidation-mlogloss:0.00245\n",
      "[241]\ttrain-mlogloss:0.00240\tvalidation-mlogloss:0.00245\n",
      "[242]\ttrain-mlogloss:0.00240\tvalidation-mlogloss:0.00245\n",
      "[243]\ttrain-mlogloss:0.00240\tvalidation-mlogloss:0.00245\n",
      "[244]\ttrain-mlogloss:0.00240\tvalidation-mlogloss:0.00245\n",
      "[245]\ttrain-mlogloss:0.00240\tvalidation-mlogloss:0.00244\n",
      "[246]\ttrain-mlogloss:0.00240\tvalidation-mlogloss:0.00244\n",
      "[247]\ttrain-mlogloss:0.00240\tvalidation-mlogloss:0.00244\n",
      "[248]\ttrain-mlogloss:0.00240\tvalidation-mlogloss:0.00244\n",
      "[249]\ttrain-mlogloss:0.00240\tvalidation-mlogloss:0.00244\n",
      "[250]\ttrain-mlogloss:0.00240\tvalidation-mlogloss:0.00244\n",
      "[251]\ttrain-mlogloss:0.00240\tvalidation-mlogloss:0.00244\n",
      "[252]\ttrain-mlogloss:0.00240\tvalidation-mlogloss:0.00244\n",
      "[253]\ttrain-mlogloss:0.00240\tvalidation-mlogloss:0.00244\n",
      "[254]\ttrain-mlogloss:0.00240\tvalidation-mlogloss:0.00244\n",
      "[255]\ttrain-mlogloss:0.00240\tvalidation-mlogloss:0.00244\n",
      "[256]\ttrain-mlogloss:0.00240\tvalidation-mlogloss:0.00244\n",
      "[257]\ttrain-mlogloss:0.00240\tvalidation-mlogloss:0.00244\n",
      "[258]\ttrain-mlogloss:0.00239\tvalidation-mlogloss:0.00244\n",
      "[259]\ttrain-mlogloss:0.00239\tvalidation-mlogloss:0.00244\n",
      "[260]\ttrain-mlogloss:0.00239\tvalidation-mlogloss:0.00244\n",
      "[261]\ttrain-mlogloss:0.00239\tvalidation-mlogloss:0.00244\n",
      "[262]\ttrain-mlogloss:0.00239\tvalidation-mlogloss:0.00244\n",
      "[263]\ttrain-mlogloss:0.00239\tvalidation-mlogloss:0.00244\n",
      "[264]\ttrain-mlogloss:0.00239\tvalidation-mlogloss:0.00244\n",
      "[265]\ttrain-mlogloss:0.00239\tvalidation-mlogloss:0.00244\n",
      "[266]\ttrain-mlogloss:0.00239\tvalidation-mlogloss:0.00244\n",
      "[267]\ttrain-mlogloss:0.00239\tvalidation-mlogloss:0.00244\n",
      "[268]\ttrain-mlogloss:0.00239\tvalidation-mlogloss:0.00244\n",
      "[269]\ttrain-mlogloss:0.00239\tvalidation-mlogloss:0.00244\n",
      "[270]\ttrain-mlogloss:0.00239\tvalidation-mlogloss:0.00244\n",
      "[271]\ttrain-mlogloss:0.00239\tvalidation-mlogloss:0.00244\n",
      "[272]\ttrain-mlogloss:0.00239\tvalidation-mlogloss:0.00244\n",
      "[273]\ttrain-mlogloss:0.00239\tvalidation-mlogloss:0.00244\n",
      "[274]\ttrain-mlogloss:0.00239\tvalidation-mlogloss:0.00244\n",
      "[275]\ttrain-mlogloss:0.00239\tvalidation-mlogloss:0.00244\n",
      "[276]\ttrain-mlogloss:0.00239\tvalidation-mlogloss:0.00244\n",
      "[277]\ttrain-mlogloss:0.00239\tvalidation-mlogloss:0.00244\n",
      "[278]\ttrain-mlogloss:0.00239\tvalidation-mlogloss:0.00244\n",
      "[279]\ttrain-mlogloss:0.00239\tvalidation-mlogloss:0.00244\n",
      "[280]\ttrain-mlogloss:0.00239\tvalidation-mlogloss:0.00244\n",
      "[281]\ttrain-mlogloss:0.00239\tvalidation-mlogloss:0.00244\n",
      "[282]\ttrain-mlogloss:0.00239\tvalidation-mlogloss:0.00244\n",
      "[283]\ttrain-mlogloss:0.00239\tvalidation-mlogloss:0.00244\n",
      "[284]\ttrain-mlogloss:0.00239\tvalidation-mlogloss:0.00244\n",
      "[285]\ttrain-mlogloss:0.00239\tvalidation-mlogloss:0.00244\n",
      "[286]\ttrain-mlogloss:0.00239\tvalidation-mlogloss:0.00244\n",
      "[287]\ttrain-mlogloss:0.00239\tvalidation-mlogloss:0.00244\n",
      "[288]\ttrain-mlogloss:0.00239\tvalidation-mlogloss:0.00244\n",
      "[289]\ttrain-mlogloss:0.00239\tvalidation-mlogloss:0.00244\n",
      "[290]\ttrain-mlogloss:0.00239\tvalidation-mlogloss:0.00244\n",
      "[291]\ttrain-mlogloss:0.00239\tvalidation-mlogloss:0.00244\n",
      "[292]\ttrain-mlogloss:0.00239\tvalidation-mlogloss:0.00244\n",
      "[293]\ttrain-mlogloss:0.00239\tvalidation-mlogloss:0.00244\n",
      "[294]\ttrain-mlogloss:0.00239\tvalidation-mlogloss:0.00244\n",
      "[295]\ttrain-mlogloss:0.00239\tvalidation-mlogloss:0.00244\n",
      "[296]\ttrain-mlogloss:0.00239\tvalidation-mlogloss:0.00244\n",
      "[297]\ttrain-mlogloss:0.00239\tvalidation-mlogloss:0.00244\n",
      "[298]\ttrain-mlogloss:0.00239\tvalidation-mlogloss:0.00244\n",
      "[299]\ttrain-mlogloss:0.00239\tvalidation-mlogloss:0.00244\n",
      "[300]\ttrain-mlogloss:0.00239\tvalidation-mlogloss:0.00244\n",
      "[301]\ttrain-mlogloss:0.00239\tvalidation-mlogloss:0.00244\n",
      "[302]\ttrain-mlogloss:0.00239\tvalidation-mlogloss:0.00244\n",
      "[303]\ttrain-mlogloss:0.00239\tvalidation-mlogloss:0.00244\n",
      "[304]\ttrain-mlogloss:0.00239\tvalidation-mlogloss:0.00244\n",
      "[305]\ttrain-mlogloss:0.00239\tvalidation-mlogloss:0.00244\n",
      "[306]\ttrain-mlogloss:0.00239\tvalidation-mlogloss:0.00244\n",
      "[307]\ttrain-mlogloss:0.00239\tvalidation-mlogloss:0.00244\n",
      "[308]\ttrain-mlogloss:0.00239\tvalidation-mlogloss:0.00244\n",
      "[309]\ttrain-mlogloss:0.00239\tvalidation-mlogloss:0.00244\n",
      "[310]\ttrain-mlogloss:0.00239\tvalidation-mlogloss:0.00244\n",
      "[311]\ttrain-mlogloss:0.00239\tvalidation-mlogloss:0.00244\n",
      "[312]\ttrain-mlogloss:0.00239\tvalidation-mlogloss:0.00244\n",
      "[313]\ttrain-mlogloss:0.00239\tvalidation-mlogloss:0.00244\n",
      "[314]\ttrain-mlogloss:0.00239\tvalidation-mlogloss:0.00244\n",
      "[315]\ttrain-mlogloss:0.00239\tvalidation-mlogloss:0.00244\n",
      "[316]\ttrain-mlogloss:0.00239\tvalidation-mlogloss:0.00244\n",
      "[317]\ttrain-mlogloss:0.00239\tvalidation-mlogloss:0.00244\n",
      "[318]\ttrain-mlogloss:0.00239\tvalidation-mlogloss:0.00244\n",
      "[319]\ttrain-mlogloss:0.00239\tvalidation-mlogloss:0.00244\n",
      "[320]\ttrain-mlogloss:0.00239\tvalidation-mlogloss:0.00244\n",
      "[321]\ttrain-mlogloss:0.00239\tvalidation-mlogloss:0.00244\n",
      "[322]\ttrain-mlogloss:0.00239\tvalidation-mlogloss:0.00244\n",
      "[323]\ttrain-mlogloss:0.00239\tvalidation-mlogloss:0.00244\n",
      "[324]\ttrain-mlogloss:0.00239\tvalidation-mlogloss:0.00244\n",
      "[325]\ttrain-mlogloss:0.00239\tvalidation-mlogloss:0.00244\n",
      "[326]\ttrain-mlogloss:0.00239\tvalidation-mlogloss:0.00244\n",
      "[327]\ttrain-mlogloss:0.00239\tvalidation-mlogloss:0.00244\n",
      "[328]\ttrain-mlogloss:0.00239\tvalidation-mlogloss:0.00244\n",
      "[329]\ttrain-mlogloss:0.00239\tvalidation-mlogloss:0.00244\n",
      "[330]\ttrain-mlogloss:0.00239\tvalidation-mlogloss:0.00244\n",
      "[331]\ttrain-mlogloss:0.00239\tvalidation-mlogloss:0.00244\n",
      "[332]\ttrain-mlogloss:0.00239\tvalidation-mlogloss:0.00244\n",
      "[333]\ttrain-mlogloss:0.00239\tvalidation-mlogloss:0.00244\n",
      "[334]\ttrain-mlogloss:0.00239\tvalidation-mlogloss:0.00244\n",
      "[335]\ttrain-mlogloss:0.00239\tvalidation-mlogloss:0.00244\n",
      "[336]\ttrain-mlogloss:0.00239\tvalidation-mlogloss:0.00244\n",
      "[337]\ttrain-mlogloss:0.00239\tvalidation-mlogloss:0.00244\n",
      "[338]\ttrain-mlogloss:0.00239\tvalidation-mlogloss:0.00244\n",
      "[339]\ttrain-mlogloss:0.00239\tvalidation-mlogloss:0.00244\n",
      "[340]\ttrain-mlogloss:0.00239\tvalidation-mlogloss:0.00244\n",
      "[341]\ttrain-mlogloss:0.00239\tvalidation-mlogloss:0.00243\n",
      "[342]\ttrain-mlogloss:0.00239\tvalidation-mlogloss:0.00243\n",
      "[343]\ttrain-mlogloss:0.00239\tvalidation-mlogloss:0.00243\n",
      "[344]\ttrain-mlogloss:0.00239\tvalidation-mlogloss:0.00243\n",
      "[345]\ttrain-mlogloss:0.00239\tvalidation-mlogloss:0.00243\n",
      "[346]\ttrain-mlogloss:0.00239\tvalidation-mlogloss:0.00243\n",
      "[347]\ttrain-mlogloss:0.00239\tvalidation-mlogloss:0.00243\n",
      "[348]\ttrain-mlogloss:0.00239\tvalidation-mlogloss:0.00243\n",
      "[349]\ttrain-mlogloss:0.00239\tvalidation-mlogloss:0.00243\n",
      "[350]\ttrain-mlogloss:0.00239\tvalidation-mlogloss:0.00243\n",
      "[351]\ttrain-mlogloss:0.00239\tvalidation-mlogloss:0.00243\n",
      "[352]\ttrain-mlogloss:0.00239\tvalidation-mlogloss:0.00243\n",
      "[353]\ttrain-mlogloss:0.00239\tvalidation-mlogloss:0.00243\n",
      "[354]\ttrain-mlogloss:0.00239\tvalidation-mlogloss:0.00243\n",
      "[355]\ttrain-mlogloss:0.00239\tvalidation-mlogloss:0.00243\n",
      "[356]\ttrain-mlogloss:0.00239\tvalidation-mlogloss:0.00243\n",
      "[357]\ttrain-mlogloss:0.00239\tvalidation-mlogloss:0.00243\n",
      "[358]\ttrain-mlogloss:0.00239\tvalidation-mlogloss:0.00243\n",
      "[359]\ttrain-mlogloss:0.00239\tvalidation-mlogloss:0.00243\n",
      "[360]\ttrain-mlogloss:0.00239\tvalidation-mlogloss:0.00243\n",
      "[361]\ttrain-mlogloss:0.00239\tvalidation-mlogloss:0.00243\n",
      "[362]\ttrain-mlogloss:0.00239\tvalidation-mlogloss:0.00243\n",
      "[363]\ttrain-mlogloss:0.00239\tvalidation-mlogloss:0.00243\n",
      "[364]\ttrain-mlogloss:0.00239\tvalidation-mlogloss:0.00243\n",
      "[365]\ttrain-mlogloss:0.00239\tvalidation-mlogloss:0.00243\n",
      "[366]\ttrain-mlogloss:0.00239\tvalidation-mlogloss:0.00243\n",
      "[367]\ttrain-mlogloss:0.00239\tvalidation-mlogloss:0.00243\n",
      "[368]\ttrain-mlogloss:0.00239\tvalidation-mlogloss:0.00243\n",
      "[369]\ttrain-mlogloss:0.00239\tvalidation-mlogloss:0.00243\n",
      "[370]\ttrain-mlogloss:0.00239\tvalidation-mlogloss:0.00243\n",
      "[371]\ttrain-mlogloss:0.00239\tvalidation-mlogloss:0.00243\n",
      "[372]\ttrain-mlogloss:0.00239\tvalidation-mlogloss:0.00243\n",
      "[373]\ttrain-mlogloss:0.00239\tvalidation-mlogloss:0.00243\n",
      "[374]\ttrain-mlogloss:0.00239\tvalidation-mlogloss:0.00243\n",
      "[375]\ttrain-mlogloss:0.00239\tvalidation-mlogloss:0.00243\n",
      "[376]\ttrain-mlogloss:0.00239\tvalidation-mlogloss:0.00243\n",
      "[377]\ttrain-mlogloss:0.00239\tvalidation-mlogloss:0.00243\n",
      "[378]\ttrain-mlogloss:0.00239\tvalidation-mlogloss:0.00243\n",
      "[379]\ttrain-mlogloss:0.00239\tvalidation-mlogloss:0.00243\n",
      "[380]\ttrain-mlogloss:0.00239\tvalidation-mlogloss:0.00243\n",
      "[381]\ttrain-mlogloss:0.00239\tvalidation-mlogloss:0.00243\n",
      "[382]\ttrain-mlogloss:0.00239\tvalidation-mlogloss:0.00243\n",
      "[383]\ttrain-mlogloss:0.00239\tvalidation-mlogloss:0.00243\n",
      "[384]\ttrain-mlogloss:0.00239\tvalidation-mlogloss:0.00243\n",
      "[385]\ttrain-mlogloss:0.00239\tvalidation-mlogloss:0.00243\n",
      "[386]\ttrain-mlogloss:0.00239\tvalidation-mlogloss:0.00243\n",
      "[387]\ttrain-mlogloss:0.00239\tvalidation-mlogloss:0.00243\n",
      "[388]\ttrain-mlogloss:0.00239\tvalidation-mlogloss:0.00243\n",
      "[389]\ttrain-mlogloss:0.00239\tvalidation-mlogloss:0.00243\n",
      "[390]\ttrain-mlogloss:0.00239\tvalidation-mlogloss:0.00243\n",
      "[391]\ttrain-mlogloss:0.00239\tvalidation-mlogloss:0.00243\n",
      "[392]\ttrain-mlogloss:0.00239\tvalidation-mlogloss:0.00243\n",
      "[393]\ttrain-mlogloss:0.00239\tvalidation-mlogloss:0.00243\n",
      "[394]\ttrain-mlogloss:0.00239\tvalidation-mlogloss:0.00243\n",
      "[395]\ttrain-mlogloss:0.00239\tvalidation-mlogloss:0.00243\n",
      "[396]\ttrain-mlogloss:0.00239\tvalidation-mlogloss:0.00243\n",
      "[397]\ttrain-mlogloss:0.00239\tvalidation-mlogloss:0.00243\n",
      "[398]\ttrain-mlogloss:0.00239\tvalidation-mlogloss:0.00243\n",
      "[399]\ttrain-mlogloss:0.00239\tvalidation-mlogloss:0.00243\n",
      "[400]\ttrain-mlogloss:0.00239\tvalidation-mlogloss:0.00243\n",
      "[401]\ttrain-mlogloss:0.00239\tvalidation-mlogloss:0.00243\n",
      "[402]\ttrain-mlogloss:0.00239\tvalidation-mlogloss:0.00243\n",
      "[403]\ttrain-mlogloss:0.00239\tvalidation-mlogloss:0.00243\n",
      "[404]\ttrain-mlogloss:0.00239\tvalidation-mlogloss:0.00243\n",
      "[405]\ttrain-mlogloss:0.00239\tvalidation-mlogloss:0.00243\n",
      "[406]\ttrain-mlogloss:0.00239\tvalidation-mlogloss:0.00243\n",
      "[407]\ttrain-mlogloss:0.00239\tvalidation-mlogloss:0.00243\n",
      "[408]\ttrain-mlogloss:0.00239\tvalidation-mlogloss:0.00243\n",
      "[409]\ttrain-mlogloss:0.00239\tvalidation-mlogloss:0.00243\n",
      "[410]\ttrain-mlogloss:0.00239\tvalidation-mlogloss:0.00243\n",
      "[411]\ttrain-mlogloss:0.00239\tvalidation-mlogloss:0.00243\n",
      "[412]\ttrain-mlogloss:0.00239\tvalidation-mlogloss:0.00243\n",
      "[413]\ttrain-mlogloss:0.00239\tvalidation-mlogloss:0.00243\n",
      "[414]\ttrain-mlogloss:0.00239\tvalidation-mlogloss:0.00243\n",
      "[415]\ttrain-mlogloss:0.00239\tvalidation-mlogloss:0.00243\n",
      "[416]\ttrain-mlogloss:0.00239\tvalidation-mlogloss:0.00243\n",
      "[417]\ttrain-mlogloss:0.00239\tvalidation-mlogloss:0.00243\n",
      "[418]\ttrain-mlogloss:0.00239\tvalidation-mlogloss:0.00243\n",
      "[419]\ttrain-mlogloss:0.00239\tvalidation-mlogloss:0.00243\n",
      "[420]\ttrain-mlogloss:0.00239\tvalidation-mlogloss:0.00243\n",
      "[421]\ttrain-mlogloss:0.00239\tvalidation-mlogloss:0.00243\n",
      "[422]\ttrain-mlogloss:0.00239\tvalidation-mlogloss:0.00243\n",
      "[423]\ttrain-mlogloss:0.00239\tvalidation-mlogloss:0.00243\n",
      "[424]\ttrain-mlogloss:0.00239\tvalidation-mlogloss:0.00243\n",
      "[425]\ttrain-mlogloss:0.00239\tvalidation-mlogloss:0.00243\n",
      "[426]\ttrain-mlogloss:0.00239\tvalidation-mlogloss:0.00243\n",
      "[427]\ttrain-mlogloss:0.00239\tvalidation-mlogloss:0.00243\n",
      "[428]\ttrain-mlogloss:0.00239\tvalidation-mlogloss:0.00243\n",
      "[429]\ttrain-mlogloss:0.00239\tvalidation-mlogloss:0.00243\n",
      "[430]\ttrain-mlogloss:0.00239\tvalidation-mlogloss:0.00243\n",
      "[431]\ttrain-mlogloss:0.00239\tvalidation-mlogloss:0.00243\n",
      "[432]\ttrain-mlogloss:0.00239\tvalidation-mlogloss:0.00243\n",
      "[433]\ttrain-mlogloss:0.00239\tvalidation-mlogloss:0.00243\n",
      "[434]\ttrain-mlogloss:0.00239\tvalidation-mlogloss:0.00243\n",
      "[435]\ttrain-mlogloss:0.00239\tvalidation-mlogloss:0.00243\n",
      "[436]\ttrain-mlogloss:0.00239\tvalidation-mlogloss:0.00243\n",
      "[437]\ttrain-mlogloss:0.00239\tvalidation-mlogloss:0.00243\n",
      "[438]\ttrain-mlogloss:0.00239\tvalidation-mlogloss:0.00243\n",
      "[439]\ttrain-mlogloss:0.00239\tvalidation-mlogloss:0.00243\n",
      "[440]\ttrain-mlogloss:0.00239\tvalidation-mlogloss:0.00243\n",
      "[441]\ttrain-mlogloss:0.00239\tvalidation-mlogloss:0.00243\n",
      "[442]\ttrain-mlogloss:0.00239\tvalidation-mlogloss:0.00243\n",
      "[443]\ttrain-mlogloss:0.00239\tvalidation-mlogloss:0.00243\n",
      "[444]\ttrain-mlogloss:0.00239\tvalidation-mlogloss:0.00243\n",
      "[445]\ttrain-mlogloss:0.00239\tvalidation-mlogloss:0.00243\n",
      "[446]\ttrain-mlogloss:0.00239\tvalidation-mlogloss:0.00243\n",
      "[447]\ttrain-mlogloss:0.00239\tvalidation-mlogloss:0.00243\n",
      "[448]\ttrain-mlogloss:0.00239\tvalidation-mlogloss:0.00243\n",
      "[449]\ttrain-mlogloss:0.00239\tvalidation-mlogloss:0.00243\n",
      "[450]\ttrain-mlogloss:0.00239\tvalidation-mlogloss:0.00243\n",
      "[451]\ttrain-mlogloss:0.00239\tvalidation-mlogloss:0.00243\n",
      "[452]\ttrain-mlogloss:0.00239\tvalidation-mlogloss:0.00243\n",
      "[453]\ttrain-mlogloss:0.00239\tvalidation-mlogloss:0.00243\n",
      "[454]\ttrain-mlogloss:0.00239\tvalidation-mlogloss:0.00243\n",
      "[455]\ttrain-mlogloss:0.00239\tvalidation-mlogloss:0.00243\n",
      "[456]\ttrain-mlogloss:0.00239\tvalidation-mlogloss:0.00243\n",
      "[457]\ttrain-mlogloss:0.00239\tvalidation-mlogloss:0.00243\n",
      "[458]\ttrain-mlogloss:0.00239\tvalidation-mlogloss:0.00243\n",
      "[459]\ttrain-mlogloss:0.00239\tvalidation-mlogloss:0.00243\n",
      "[460]\ttrain-mlogloss:0.00239\tvalidation-mlogloss:0.00243\n",
      "[461]\ttrain-mlogloss:0.00239\tvalidation-mlogloss:0.00243\n",
      "[462]\ttrain-mlogloss:0.00239\tvalidation-mlogloss:0.00243\n",
      "[463]\ttrain-mlogloss:0.00239\tvalidation-mlogloss:0.00243\n",
      "[464]\ttrain-mlogloss:0.00239\tvalidation-mlogloss:0.00243\n",
      "[465]\ttrain-mlogloss:0.00239\tvalidation-mlogloss:0.00243\n",
      "[466]\ttrain-mlogloss:0.00239\tvalidation-mlogloss:0.00243\n",
      "[467]\ttrain-mlogloss:0.00239\tvalidation-mlogloss:0.00243\n",
      "[468]\ttrain-mlogloss:0.00239\tvalidation-mlogloss:0.00243\n",
      "[469]\ttrain-mlogloss:0.00239\tvalidation-mlogloss:0.00243\n",
      "[470]\ttrain-mlogloss:0.00239\tvalidation-mlogloss:0.00243\n",
      "[471]\ttrain-mlogloss:0.00239\tvalidation-mlogloss:0.00243\n",
      "[472]\ttrain-mlogloss:0.00239\tvalidation-mlogloss:0.00243\n",
      "[473]\ttrain-mlogloss:0.00239\tvalidation-mlogloss:0.00243\n",
      "[474]\ttrain-mlogloss:0.00239\tvalidation-mlogloss:0.00243\n",
      "[475]\ttrain-mlogloss:0.00239\tvalidation-mlogloss:0.00243\n",
      "[476]\ttrain-mlogloss:0.00239\tvalidation-mlogloss:0.00243\n",
      "[477]\ttrain-mlogloss:0.00239\tvalidation-mlogloss:0.00243\n",
      "[478]\ttrain-mlogloss:0.00239\tvalidation-mlogloss:0.00243\n",
      "[479]\ttrain-mlogloss:0.00239\tvalidation-mlogloss:0.00243\n",
      "[480]\ttrain-mlogloss:0.00239\tvalidation-mlogloss:0.00243\n",
      "[481]\ttrain-mlogloss:0.00239\tvalidation-mlogloss:0.00243\n",
      "[482]\ttrain-mlogloss:0.00239\tvalidation-mlogloss:0.00243\n",
      "[483]\ttrain-mlogloss:0.00239\tvalidation-mlogloss:0.00243\n",
      "[484]\ttrain-mlogloss:0.00239\tvalidation-mlogloss:0.00243\n",
      "[485]\ttrain-mlogloss:0.00239\tvalidation-mlogloss:0.00243\n",
      "[486]\ttrain-mlogloss:0.00239\tvalidation-mlogloss:0.00243\n",
      "[487]\ttrain-mlogloss:0.00239\tvalidation-mlogloss:0.00243\n",
      "[488]\ttrain-mlogloss:0.00239\tvalidation-mlogloss:0.00243\n",
      "[489]\ttrain-mlogloss:0.00239\tvalidation-mlogloss:0.00243\n",
      "[490]\ttrain-mlogloss:0.00239\tvalidation-mlogloss:0.00243\n",
      "[491]\ttrain-mlogloss:0.00239\tvalidation-mlogloss:0.00243\n",
      "[492]\ttrain-mlogloss:0.00239\tvalidation-mlogloss:0.00243\n",
      "[493]\ttrain-mlogloss:0.00239\tvalidation-mlogloss:0.00243\n",
      "[494]\ttrain-mlogloss:0.00239\tvalidation-mlogloss:0.00243\n",
      "[495]\ttrain-mlogloss:0.00239\tvalidation-mlogloss:0.00243\n",
      "[496]\ttrain-mlogloss:0.00239\tvalidation-mlogloss:0.00243\n",
      "[497]\ttrain-mlogloss:0.00239\tvalidation-mlogloss:0.00243\n",
      "[498]\ttrain-mlogloss:0.00238\tvalidation-mlogloss:0.00243\n",
      "[499]\ttrain-mlogloss:0.00238\tvalidation-mlogloss:0.00243\n",
      "[500]\ttrain-mlogloss:0.00238\tvalidation-mlogloss:0.00243\n",
      "[501]\ttrain-mlogloss:0.00238\tvalidation-mlogloss:0.00243\n",
      "[502]\ttrain-mlogloss:0.00238\tvalidation-mlogloss:0.00243\n",
      "[503]\ttrain-mlogloss:0.00238\tvalidation-mlogloss:0.00243\n",
      "[504]\ttrain-mlogloss:0.00238\tvalidation-mlogloss:0.00243\n",
      "[505]\ttrain-mlogloss:0.00238\tvalidation-mlogloss:0.00243\n",
      "[506]\ttrain-mlogloss:0.00238\tvalidation-mlogloss:0.00243\n",
      "[507]\ttrain-mlogloss:0.00238\tvalidation-mlogloss:0.00243\n",
      "[508]\ttrain-mlogloss:0.00238\tvalidation-mlogloss:0.00243\n",
      "[509]\ttrain-mlogloss:0.00238\tvalidation-mlogloss:0.00243\n",
      "[510]\ttrain-mlogloss:0.00238\tvalidation-mlogloss:0.00243\n",
      "[511]\ttrain-mlogloss:0.00238\tvalidation-mlogloss:0.00243\n",
      "[512]\ttrain-mlogloss:0.00238\tvalidation-mlogloss:0.00243\n",
      "[513]\ttrain-mlogloss:0.00238\tvalidation-mlogloss:0.00243\n",
      "[514]\ttrain-mlogloss:0.00238\tvalidation-mlogloss:0.00243\n",
      "[515]\ttrain-mlogloss:0.00238\tvalidation-mlogloss:0.00243\n",
      "[516]\ttrain-mlogloss:0.00238\tvalidation-mlogloss:0.00243\n",
      "[517]\ttrain-mlogloss:0.00238\tvalidation-mlogloss:0.00243\n",
      "[518]\ttrain-mlogloss:0.00238\tvalidation-mlogloss:0.00243\n"
     ]
    }
   ],
   "source": [
    "# Обучаем модель\n",
    "# Сначала приводим значения пикселей к схожему масштабу\n",
    "scaler = StandardScaler()\n",
    "X_std = scaler.fit_transform(train_data.values[:, 1:])\n",
    "test_std = scaler.fit_transform(test_data.values)\n",
    "\n",
    "y_train = train_data.label\n",
    "# X_valid будет использован, чтобы досрочно завершить обучение модели, \n",
    "# если ее качество перестанет улучшаться\n",
    "X_train, X_valid, y_train, y_valid = train_test_split(\n",
    "    X_std,\n",
    "    y_train, \n",
    "    test_size=0.1, \n",
    "    random_state=42)\n",
    "\n",
    "param_list = [\n",
    "    (\"eta\", 0.08),\n",
    "    (\"max_depth\", 6),\n",
    "    (\"subsample\", 0.8),\n",
    "    (\"colsample_bytree\", 0.8),\n",
    "    (\"objective\", \"multi:softmax\"),\n",
    "    (\"custom_metric\", \"merror\"), \n",
    "    (\"alpha\", 8), \n",
    "    (\"lambda\", 2),\n",
    "    (\"num_class\", 10)]\n",
    "\n",
    "n_rounds = 600\n",
    "# Если за последние 10 раундов модель не улучшается на валидации, прекратить обучение\n",
    "early_stopping = 10\n",
    "\n",
    "d_train = xgb.DMatrix(X_train, label=y_train)\n",
    "d_val = xgb.DMatrix(X_valid, label=y_valid)\n",
    "eval_list = [(d_train, \"train\"), (d_val, \"validation\")]\n",
    "bst = xgb.train(param_list, d_train, n_rounds, evals=eval_list, early_stopping_rounds=early_stopping, verbose_eval=True)"
   ]
  },
  {
   "cell_type": "code",
   "execution_count": 14,
   "id": "154d732c-3f46-4096-a77c-4704e13610b5",
   "metadata": {},
   "outputs": [],
   "source": [
    "def imshow(img):\n",
    "    import cv2\n",
    "    import IPython\n",
    "    from ipywidgets import widgets, HBox\n",
    "    _, ret = cv2.imencode('.jpg', img)\n",
    "    i = IPython.display.Image(data=ret, width=200, height=200)\n",
    "    IPython.display.display(i)"
   ]
  },
  {
   "cell_type": "code",
   "execution_count": 16,
   "id": "6c1c4115-54b5-4aa4-8881-4df74b13f99d",
   "metadata": {},
   "outputs": [
    {
     "name": "stdout",
     "output_type": "stream",
     "text": [
      "Collecting ipywidgets\n",
      "  Downloading ipywidgets-8.1.1-py3-none-any.whl (139 kB)\n",
      "\u001b[2K     \u001b[90m━━━━━━━━━━━━━━━━━━━━━━━━━━━━━━━━━━━━━━━\u001b[0m \u001b[32m139.4/139.4 kB\u001b[0m \u001b[31m1.5 MB/s\u001b[0m eta \u001b[36m0:00:00\u001b[0ma \u001b[36m0:00:01\u001b[0m\n",
      "\u001b[?25hCollecting comm>=0.1.3\n",
      "  Downloading comm-0.1.4-py3-none-any.whl (6.6 kB)\n",
      "Collecting widgetsnbextension~=4.0.9\n",
      "  Downloading widgetsnbextension-4.0.9-py3-none-any.whl (2.3 MB)\n",
      "\u001b[2K     \u001b[90m━━━━━━━━━━━━━━━━━━━━━━━━━━━━━━━━━━━━━━━━\u001b[0m \u001b[32m2.3/2.3 MB\u001b[0m \u001b[31m4.5 MB/s\u001b[0m eta \u001b[36m0:00:00\u001b[0ma \u001b[36m0:00:01\u001b[0m\n",
      "\u001b[?25hRequirement already satisfied: traitlets>=4.3.1 in /Users/jmyh/anaconda3/lib/python3.10/site-packages (from ipywidgets) (5.7.1)\n",
      "Collecting jupyterlab-widgets~=3.0.9\n",
      "  Downloading jupyterlab_widgets-3.0.9-py3-none-any.whl (214 kB)\n",
      "\u001b[2K     \u001b[90m━━━━━━━━━━━━━━━━━━━━━━━━━━━━━━━━━━━━━━━\u001b[0m \u001b[32m214.9/214.9 kB\u001b[0m \u001b[31m4.0 MB/s\u001b[0m eta \u001b[36m0:00:00\u001b[0ma \u001b[36m0:00:01\u001b[0m\n",
      "\u001b[?25hRequirement already satisfied: ipython>=6.1.0 in /Users/jmyh/anaconda3/lib/python3.10/site-packages (from ipywidgets) (8.10.0)\n",
      "Requirement already satisfied: pickleshare in /Users/jmyh/anaconda3/lib/python3.10/site-packages (from ipython>=6.1.0->ipywidgets) (0.7.5)\n",
      "Requirement already satisfied: stack-data in /Users/jmyh/anaconda3/lib/python3.10/site-packages (from ipython>=6.1.0->ipywidgets) (0.2.0)\n",
      "Requirement already satisfied: decorator in /Users/jmyh/anaconda3/lib/python3.10/site-packages (from ipython>=6.1.0->ipywidgets) (5.1.1)\n",
      "Requirement already satisfied: prompt-toolkit<3.1.0,>=3.0.30 in /Users/jmyh/anaconda3/lib/python3.10/site-packages (from ipython>=6.1.0->ipywidgets) (3.0.36)\n",
      "Requirement already satisfied: pygments>=2.4.0 in /Users/jmyh/anaconda3/lib/python3.10/site-packages (from ipython>=6.1.0->ipywidgets) (2.11.2)\n",
      "Requirement already satisfied: pexpect>4.3 in /Users/jmyh/anaconda3/lib/python3.10/site-packages (from ipython>=6.1.0->ipywidgets) (4.8.0)\n",
      "Requirement already satisfied: matplotlib-inline in /Users/jmyh/anaconda3/lib/python3.10/site-packages (from ipython>=6.1.0->ipywidgets) (0.1.6)\n",
      "Requirement already satisfied: appnope in /Users/jmyh/anaconda3/lib/python3.10/site-packages (from ipython>=6.1.0->ipywidgets) (0.1.2)\n",
      "Requirement already satisfied: jedi>=0.16 in /Users/jmyh/anaconda3/lib/python3.10/site-packages (from ipython>=6.1.0->ipywidgets) (0.18.1)\n",
      "Requirement already satisfied: backcall in /Users/jmyh/anaconda3/lib/python3.10/site-packages (from ipython>=6.1.0->ipywidgets) (0.2.0)\n",
      "Requirement already satisfied: parso<0.9.0,>=0.8.0 in /Users/jmyh/anaconda3/lib/python3.10/site-packages (from jedi>=0.16->ipython>=6.1.0->ipywidgets) (0.8.3)\n",
      "Requirement already satisfied: ptyprocess>=0.5 in /Users/jmyh/anaconda3/lib/python3.10/site-packages (from pexpect>4.3->ipython>=6.1.0->ipywidgets) (0.7.0)\n",
      "Requirement already satisfied: wcwidth in /Users/jmyh/anaconda3/lib/python3.10/site-packages (from prompt-toolkit<3.1.0,>=3.0.30->ipython>=6.1.0->ipywidgets) (0.2.5)\n",
      "Requirement already satisfied: asttokens in /Users/jmyh/anaconda3/lib/python3.10/site-packages (from stack-data->ipython>=6.1.0->ipywidgets) (2.0.5)\n",
      "Requirement already satisfied: pure-eval in /Users/jmyh/anaconda3/lib/python3.10/site-packages (from stack-data->ipython>=6.1.0->ipywidgets) (0.2.2)\n",
      "Requirement already satisfied: executing in /Users/jmyh/anaconda3/lib/python3.10/site-packages (from stack-data->ipython>=6.1.0->ipywidgets) (0.8.3)\n",
      "Requirement already satisfied: six in /Users/jmyh/anaconda3/lib/python3.10/site-packages (from asttokens->stack-data->ipython>=6.1.0->ipywidgets) (1.16.0)\n",
      "Installing collected packages: widgetsnbextension, jupyterlab-widgets, comm, ipywidgets\n",
      "  Attempting uninstall: comm\n",
      "    Found existing installation: comm 0.1.2\n",
      "    Uninstalling comm-0.1.2:\n",
      "      Successfully uninstalled comm-0.1.2\n",
      "Successfully installed comm-0.1.4 ipywidgets-8.1.1 jupyterlab-widgets-3.0.9 widgetsnbextension-4.0.9\n"
     ]
    }
   ],
   "source": [
    "! pip install ipywidgets"
   ]
  },
  {
   "cell_type": "code",
   "execution_count": 19,
   "id": "dfc98435-b0bd-4fc1-a8da-01779b4275f4",
   "metadata": {},
   "outputs": [
    {
     "data": {
      "image/png": "[encoded data removed]",
      "text/plain": [
       "<IPython.core.display.Image object>"
      ]
     },
     "metadata": {
      "image/png": {
       "height": 200,
       "width": 200
      }
     },
     "output_type": "display_data"
    },
    {
     "name": "stdout",
     "output_type": "stream",
     "text": [
      "Опознано число: 1\n"
     ]
    },
    {
     "data": {
      "image/png": "[encoded data removed]",
      "text/plain": [
       "<IPython.core.display.Image object>"
      ]
     },
     "metadata": {
      "image/png": {
       "height": 200,
       "width": 200
      }
     },
     "output_type": "display_data"
    },
    {
     "name": "stdout",
     "output_type": "stream",
     "text": [
      "Опознано число: 4\n"
     ]
    },
    {
     "data": {
      "image/png": "[encoded data removed]",
      "text/plain": [
       "<IPython.core.display.Image object>"
      ]
     },
     "metadata": {
      "image/png": {
       "height": 200,
       "width": 200
      }
     },
     "output_type": "display_data"
    },
    {
     "name": "stdout",
     "output_type": "stream",
     "text": [
      "Опознано число: 9\n"
     ]
    },
    {
     "data": {
      "image/png": "[encoded data removed]",
      "text/plain": [
       "<IPython.core.display.Image object>"
      ]
     },
     "metadata": {
      "image/png": {
       "height": 200,
       "width": 200
      }
     },
     "output_type": "display_data"
    },
    {
     "name": "stdout",
     "output_type": "stream",
     "text": [
      "Опознано число: 5\n"
     ]
    },
    {
     "data": {
      "image/png": "[encoded data removed]",
      "text/plain": [
       "<IPython.core.display.Image object>"
      ]
     },
     "metadata": {
      "image/png": {
       "height": 200,
       "width": 200
      }
     },
     "output_type": "display_data"
    },
    {
     "name": "stdout",
     "output_type": "stream",
     "text": [
      "Опознано число: 9\n"
     ]
    },
    {
     "data": {
      "image/png": "[encoded data removed]",
      "text/plain": [
       "<IPython.core.display.Image object>"
      ]
     },
     "metadata": {
      "image/png": {
       "height": 200,
       "width": 200
      }
     },
     "output_type": "display_data"
    },
    {
     "name": "stdout",
     "output_type": "stream",
     "text": [
      "Опознано число: 0\n"
     ]
    },
    {
     "data": {
      "image/png": "[encoded data removed]",
      "text/plain": [
       "<IPython.core.display.Image object>"
      ]
     },
     "metadata": {
      "image/png": {
       "height": 200,
       "width": 200
      }
     },
     "output_type": "display_data"
    },
    {
     "name": "stdout",
     "output_type": "stream",
     "text": [
      "Опознано число: 6\n"
     ]
    },
    {
     "data": {
      "image/png": "[encoded data removed]",
      "text/plain": [
       "<IPython.core.display.Image object>"
      ]
     },
     "metadata": {
      "image/png": {
       "height": 200,
       "width": 200
      }
     },
     "output_type": "display_data"
    },
    {
     "name": "stdout",
     "output_type": "stream",
     "text": [
      "Опознано число: 9\n"
     ]
    },
    {
     "data": {
      "image/png": "[encoded data removed]",
      "text/plain": [
       "<IPython.core.display.Image object>"
      ]
     },
     "metadata": {
      "image/png": {
       "height": 200,
       "width": 200
      }
     },
     "output_type": "display_data"
    },
    {
     "name": "stdout",
     "output_type": "stream",
     "text": [
      "Опознано число: 0\n"
     ]
    },
    {
     "data": {
      "image/png": "[encoded data removed]",
      "text/plain": [
       "<IPython.core.display.Image object>"
      ]
     },
     "metadata": {
      "image/png": {
       "height": 200,
       "width": 200
      }
     },
     "output_type": "display_data"
    },
    {
     "name": "stdout",
     "output_type": "stream",
     "text": [
      "Опознано число: 1\n"
     ]
    }
   ],
   "source": [
    "offset, n_show = 5, 10\n",
    "for image, label in zip(\n",
    "    test_data.values.reshape(-1, width, height)[offset:offset+n_show], \n",
    "    test_labels[offset:offset+n_show]):\n",
    "    imshow(image)\n",
    "    print(f'Опознано число: {label}')"
   ]
  },
  {
   "cell_type": "code",
   "execution_count": null,
   "id": "26c172bd-513c-4ea1-b13d-2cce6f07e211",
   "metadata": {},
   "outputs": [],
   "source": []
  }
 ],
 "metadata": {
  "kernelspec": {
   "display_name": "Python 3 (ipykernel)",
   "language": "python",
   "name": "python3"
  },
  "language_info": {
   "codemirror_mode": {
    "name": "ipython",
    "version": 3
   },
   "file_extension": ".py",
   "mimetype": "text/x-python",
   "name": "python",
   "nbconvert_exporter": "python",
   "pygments_lexer": "ipython3",
   "version": "3.10.9"
  }
 },
 "nbformat": 4,
 "nbformat_minor": 5
}
